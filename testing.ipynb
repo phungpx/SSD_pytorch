{
 "cells": [
  {
   "cell_type": "markdown",
   "id": "44f0de77-04cf-4c19-9139-d7b70cdae43a",
   "metadata": {},
   "source": [
    "## Model"
   ]
  },
  {
   "cell_type": "code",
   "execution_count": 5,
   "id": "5330a127-01f8-4577-a12a-197cc97030ad",
   "metadata": {},
   "outputs": [],
   "source": [
    "weight_path = '/home/phungpx/Documents/ssd300_vgg16_coco-b556d3b4.pth'\n",
    "model.load_state_dict(torch.load(f=weight_path, map_location='cpu'))\n",
    "torch.save(model.state_dict(), weight_path, _use_new_zipfile_serialization=False)"
   ]
  },
  {
   "cell_type": "code",
   "execution_count": 8,
   "id": "38fa0368-8458-4b42-bbc1-bb2869931b08",
   "metadata": {},
   "outputs": [
    {
     "data": {
      "text/plain": [
       "[4, 6, 6, 6, 4, 4]"
      ]
     },
     "execution_count": 8,
     "metadata": {},
     "output_type": "execute_result"
    }
   ],
   "source": [
    "model()"
   ]
  },
  {
   "cell_type": "code",
   "execution_count": 6,
   "id": "98aca22b-6431-448a-8385-01af353b7a98",
   "metadata": {},
   "outputs": [],
   "source": [
    "from torch import nn\n",
    "from flame.core.model.ssd300_vgg16 import ssd300_vgg16\n",
    "from flame.core.model.ssd_head import SSDClassificationHead\n",
    "\n",
    "\n",
    "class SSD300VGG16(nn.Module):\n",
    "    def __init__(self, num_classes, pretrained=False, pretrained_backbone=False):\n",
    "        super(SSD300VGG16, self).__init__()\n",
    "        self.model = self.ssd300_vgg16(num_classes, pretrained, pretrained_backbone)\n",
    "\n",
    "    def ssd300_vgg16(self, num_classes, pretrained, pretrained_backbone):\n",
    "        model = ssd300_vgg16(pretrained=pretrained, pretrained_backbone=pretrained_backbone)\n",
    "        num_anchors = model.anchor_generator.num_anchors_per_location()\n",
    "        out_channels = model.out_channels\n",
    "        model.head.classification_head = SSDClassificationHead(in_channels=out_channels,\n",
    "                                                               num_anchors=num_anchors,\n",
    "                                                               num_classes=num_classes)\n",
    "        return model\n",
    "\n",
    "    def state_dict(self):\n",
    "        return self.model.state_dict()\n",
    "\n",
    "    def load_state_dict(self, state_dict):\n",
    "        self.model.load_state_dict(state_dict)\n",
    "\n",
    "    def forward(self, x, targets=None):\n",
    "        return self.model(x, targets)"
   ]
  },
  {
   "cell_type": "code",
   "execution_count": 9,
   "id": "c1bbbc86-b785-4ced-9052-1ca1a3dd53f3",
   "metadata": {},
   "outputs": [],
   "source": [
    "import torchvision"
   ]
  },
  {
   "cell_type": "code",
   "execution_count": null,
   "id": "e37e070a-9682-4933-a838-8035fd689ac3",
   "metadata": {},
   "outputs": [],
   "source": [
    "torchvision.models.detection.fasterrcnn_resnet50_fpn()"
   ]
  }
 ],
 "metadata": {
  "kernelspec": {
   "display_name": "Python 3",
   "language": "python",
   "name": "python3"
  },
  "language_info": {
   "codemirror_mode": {
    "name": "ipython",
    "version": 3
   },
   "file_extension": ".py",
   "mimetype": "text/x-python",
   "name": "python",
   "nbconvert_exporter": "python",
   "pygments_lexer": "ipython3",
   "version": "3.7.9"
  }
 },
 "nbformat": 4,
 "nbformat_minor": 5
}
